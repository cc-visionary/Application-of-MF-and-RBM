{
 "cells": [
  {
   "cell_type": "markdown",
   "id": "4af5073c",
   "metadata": {},
   "source": [
    "## Collaborative Filtering on MovieLens 10M dataset\n",
    "Authors: (USRMODL S12)\n",
    "- Christopher Lim\n",
    "- Kyle Kenneth Chua\n",
    "- Jethro Tsai"
   ]
  },
  {
   "cell_type": "markdown",
   "id": "b5d8f80b",
   "metadata": {},
   "source": [
    "## Importing the Libraries"
   ]
  },
  {
   "cell_type": "markdown",
   "id": "e5eebad8",
   "metadata": {},
   "source": [
    "Loading the necessary libraries"
   ]
  },
  {
   "cell_type": "code",
   "execution_count": 1,
   "id": "47c79376",
   "metadata": {
    "ExecuteTime": {
     "end_time": "2022-10-16T02:26:54.721067Z",
     "start_time": "2022-10-16T02:26:53.882703Z"
    }
   },
   "outputs": [],
   "source": [
    "import pandas as pd\n",
    "import numpy as np\n",
    "import matplotlib.pyplot as plt\n",
    "%matplotlib inline\n",
    "\n",
    "import warnings\n",
    "warnings.filterwarnings('ignore')"
   ]
  },
  {
   "cell_type": "markdown",
   "id": "d2839b8d",
   "metadata": {},
   "source": [
    "Loading the data preparation and model evaluation libraries"
   ]
  },
  {
   "cell_type": "code",
   "execution_count": 2,
   "id": "ae542428",
   "metadata": {
    "ExecuteTime": {
     "end_time": "2022-10-16T02:26:55.190726Z",
     "start_time": "2022-10-16T02:26:54.722061Z"
    }
   },
   "outputs": [],
   "source": [
    "from sklearn.model_selection import train_test_split\n",
    "\n",
    "from mse import mse"
   ]
  },
  {
   "cell_type": "markdown",
   "id": "e1af994a",
   "metadata": {},
   "source": [
    "## Importing the Datasets"
   ]
  },
  {
   "cell_type": "code",
   "execution_count": 3,
   "id": "47c5950b",
   "metadata": {
    "ExecuteTime": {
     "end_time": "2022-10-16T02:26:55.236728Z",
     "start_time": "2022-10-16T02:26:55.191716Z"
    }
   },
   "outputs": [
    {
     "data": {
      "text/html": [
       "<div>\n",
       "<style scoped>\n",
       "    .dataframe tbody tr th:only-of-type {\n",
       "        vertical-align: middle;\n",
       "    }\n",
       "\n",
       "    .dataframe tbody tr th {\n",
       "        vertical-align: top;\n",
       "    }\n",
       "\n",
       "    .dataframe thead th {\n",
       "        text-align: right;\n",
       "    }\n",
       "</style>\n",
       "<table border=\"1\" class=\"dataframe\">\n",
       "  <thead>\n",
       "    <tr style=\"text-align: right;\">\n",
       "      <th></th>\n",
       "      <th>movieId</th>\n",
       "      <th>title</th>\n",
       "      <th>genres</th>\n",
       "    </tr>\n",
       "  </thead>\n",
       "  <tbody>\n",
       "    <tr>\n",
       "      <th>0</th>\n",
       "      <td>1</td>\n",
       "      <td>Toy Story (1995)</td>\n",
       "      <td>Adventure|Animation|Children|Comedy|Fantasy</td>\n",
       "    </tr>\n",
       "    <tr>\n",
       "      <th>1</th>\n",
       "      <td>2</td>\n",
       "      <td>Jumanji (1995)</td>\n",
       "      <td>Adventure|Children|Fantasy</td>\n",
       "    </tr>\n",
       "    <tr>\n",
       "      <th>2</th>\n",
       "      <td>3</td>\n",
       "      <td>Grumpier Old Men (1995)</td>\n",
       "      <td>Comedy|Romance</td>\n",
       "    </tr>\n",
       "    <tr>\n",
       "      <th>3</th>\n",
       "      <td>4</td>\n",
       "      <td>Waiting to Exhale (1995)</td>\n",
       "      <td>Comedy|Drama|Romance</td>\n",
       "    </tr>\n",
       "    <tr>\n",
       "      <th>4</th>\n",
       "      <td>5</td>\n",
       "      <td>Father of the Bride Part II (1995)</td>\n",
       "      <td>Comedy</td>\n",
       "    </tr>\n",
       "  </tbody>\n",
       "</table>\n",
       "</div>"
      ],
      "text/plain": [
       "   movieId                               title  \\\n",
       "0        1                    Toy Story (1995)   \n",
       "1        2                      Jumanji (1995)   \n",
       "2        3             Grumpier Old Men (1995)   \n",
       "3        4            Waiting to Exhale (1995)   \n",
       "4        5  Father of the Bride Part II (1995)   \n",
       "\n",
       "                                        genres  \n",
       "0  Adventure|Animation|Children|Comedy|Fantasy  \n",
       "1                   Adventure|Children|Fantasy  \n",
       "2                               Comedy|Romance  \n",
       "3                         Comedy|Drama|Romance  \n",
       "4                                       Comedy  "
      ]
     },
     "execution_count": 3,
     "metadata": {},
     "output_type": "execute_result"
    }
   ],
   "source": [
    "movies = pd.read_csv('./movie.csv')\n",
    "movies.head()"
   ]
  },
  {
   "cell_type": "code",
   "execution_count": 4,
   "id": "00e71c3b",
   "metadata": {
    "ExecuteTime": {
     "end_time": "2022-10-16T02:27:05.484902Z",
     "start_time": "2022-10-16T02:26:55.237718Z"
    }
   },
   "outputs": [
    {
     "data": {
      "text/html": [
       "<div>\n",
       "<style scoped>\n",
       "    .dataframe tbody tr th:only-of-type {\n",
       "        vertical-align: middle;\n",
       "    }\n",
       "\n",
       "    .dataframe tbody tr th {\n",
       "        vertical-align: top;\n",
       "    }\n",
       "\n",
       "    .dataframe thead th {\n",
       "        text-align: right;\n",
       "    }\n",
       "</style>\n",
       "<table border=\"1\" class=\"dataframe\">\n",
       "  <thead>\n",
       "    <tr style=\"text-align: right;\">\n",
       "      <th></th>\n",
       "      <th>userId</th>\n",
       "      <th>movieId</th>\n",
       "      <th>rating</th>\n",
       "      <th>timestamp</th>\n",
       "    </tr>\n",
       "  </thead>\n",
       "  <tbody>\n",
       "    <tr>\n",
       "      <th>0</th>\n",
       "      <td>1</td>\n",
       "      <td>2</td>\n",
       "      <td>3.5</td>\n",
       "      <td>2005-04-02 23:53:47</td>\n",
       "    </tr>\n",
       "    <tr>\n",
       "      <th>1</th>\n",
       "      <td>1</td>\n",
       "      <td>29</td>\n",
       "      <td>3.5</td>\n",
       "      <td>2005-04-02 23:31:16</td>\n",
       "    </tr>\n",
       "    <tr>\n",
       "      <th>2</th>\n",
       "      <td>1</td>\n",
       "      <td>32</td>\n",
       "      <td>3.5</td>\n",
       "      <td>2005-04-02 23:33:39</td>\n",
       "    </tr>\n",
       "    <tr>\n",
       "      <th>3</th>\n",
       "      <td>1</td>\n",
       "      <td>47</td>\n",
       "      <td>3.5</td>\n",
       "      <td>2005-04-02 23:32:07</td>\n",
       "    </tr>\n",
       "    <tr>\n",
       "      <th>4</th>\n",
       "      <td>1</td>\n",
       "      <td>50</td>\n",
       "      <td>3.5</td>\n",
       "      <td>2005-04-02 23:29:40</td>\n",
       "    </tr>\n",
       "  </tbody>\n",
       "</table>\n",
       "</div>"
      ],
      "text/plain": [
       "   userId  movieId  rating            timestamp\n",
       "0       1        2     3.5  2005-04-02 23:53:47\n",
       "1       1       29     3.5  2005-04-02 23:31:16\n",
       "2       1       32     3.5  2005-04-02 23:33:39\n",
       "3       1       47     3.5  2005-04-02 23:32:07\n",
       "4       1       50     3.5  2005-04-02 23:29:40"
      ]
     },
     "execution_count": 4,
     "metadata": {},
     "output_type": "execute_result"
    }
   ],
   "source": [
    "ratings = pd.read_csv('./rating.csv')\n",
    "ratings.head()"
   ]
  },
  {
   "cell_type": "code",
   "execution_count": 5,
   "id": "c5168aa8",
   "metadata": {
    "ExecuteTime": {
     "end_time": "2022-10-16T02:27:08.841622Z",
     "start_time": "2022-10-16T02:27:05.486902Z"
    }
   },
   "outputs": [],
   "source": [
    "df = movies.merge(ratings, how=\"left\", on=\"movieId\")\n",
    "df.head()\n",
    "\n",
    "del movies\n",
    "del ratings"
   ]
  },
  {
   "cell_type": "markdown",
   "id": "46b65a13",
   "metadata": {},
   "source": [
    "## Exploratory Data Analysis"
   ]
  },
  {
   "cell_type": "markdown",
   "id": "9b98f63a",
   "metadata": {},
   "source": [
    "### Columns"
   ]
  },
  {
   "cell_type": "code",
   "execution_count": 6,
   "id": "2b32fd69",
   "metadata": {
    "ExecuteTime": {
     "end_time": "2022-10-16T02:27:08.857635Z",
     "start_time": "2022-10-16T02:27:08.843613Z"
    }
   },
   "outputs": [
    {
     "name": "stdout",
     "output_type": "stream",
     "text": [
      "<class 'pandas.core.frame.DataFrame'>\n",
      "Int64Index: 20000797 entries, 0 to 20000796\n",
      "Data columns (total 6 columns):\n",
      " #   Column     Dtype  \n",
      "---  ------     -----  \n",
      " 0   movieId    int64  \n",
      " 1   title      object \n",
      " 2   genres     object \n",
      " 3   userId     float64\n",
      " 4   rating     float64\n",
      " 5   timestamp  object \n",
      "dtypes: float64(2), int64(1), object(3)\n",
      "memory usage: 1.0+ GB\n"
     ]
    }
   ],
   "source": [
    "df.info()"
   ]
  },
  {
   "cell_type": "code",
   "execution_count": 7,
   "id": "26073293",
   "metadata": {
    "ExecuteTime": {
     "end_time": "2022-10-16T02:27:15.677746Z",
     "start_time": "2022-10-16T02:27:08.858644Z"
    }
   },
   "outputs": [
    {
     "name": "stdout",
     "output_type": "stream",
     "text": [
      "Number of users: 138493\n",
      "Number of movies: 27278\n",
      "Number of ratings: 20000797\n",
      "Average number of ratings per user: 144.4135299257002\n"
     ]
    }
   ],
   "source": [
    "n_users = df['userId'].nunique()\n",
    "n_movies = df['movieId'].nunique()\n",
    "mean_num_ratings = df.groupby('userId').count()['movieId'].mean()\n",
    "\n",
    "print('Number of users:', n_users)   # 5000\n",
    "print('Number of movies:', n_movies) # 1000\n",
    "print('Number of ratings:', len(df))\n",
    "print('Average number of ratings per user:', mean_num_ratings)"
   ]
  },
  {
   "cell_type": "code",
   "execution_count": 8,
   "id": "27b6c422",
   "metadata": {
    "ExecuteTime": {
     "end_time": "2022-10-16T02:27:22.833725Z",
     "start_time": "2022-10-16T02:27:15.679749Z"
    }
   },
   "outputs": [
    {
     "data": {
      "text/plain": [
       "<AxesSubplot:xlabel='userId'>"
      ]
     },
     "execution_count": 8,
     "metadata": {},
     "output_type": "execute_result"
    },
    {
     "data": {
      "image/png": "[encoded data removed]",
      "text/plain": [
       "<Figure size 432x288 with 1 Axes>"
      ]
     },
     "metadata": {
      "needs_background": "light"
     },
     "output_type": "display_data"
    }
   ],
   "source": [
    "df.groupby('userId').count()['movieId'].plot()"
   ]
  },
  {
   "cell_type": "code",
   "execution_count": 9,
   "id": "da51557c",
   "metadata": {
    "ExecuteTime": {
     "end_time": "2022-10-16T02:27:29.030086Z",
     "start_time": "2022-10-16T02:27:22.834705Z"
    }
   },
   "outputs": [
    {
     "data": {
      "text/plain": [
       "<AxesSubplot:xlabel='movieId'>"
      ]
     },
     "execution_count": 9,
     "metadata": {},
     "output_type": "execute_result"
    },
    {
     "data": {
      "image/png": "[encoded data removed]",
      "text/plain": [
       "<Figure size 432x288 with 1 Axes>"
      ]
     },
     "metadata": {
      "needs_background": "light"
     },
     "output_type": "display_data"
    }
   ],
   "source": [
    "df.groupby('movieId').count()['userId'].plot()"
   ]
  },
  {
   "cell_type": "code",
   "execution_count": 10,
   "id": "621303ef",
   "metadata": {
    "ExecuteTime": {
     "end_time": "2022-10-16T02:27:29.218179Z",
     "start_time": "2022-10-16T02:27:29.031087Z"
    }
   },
   "outputs": [
    {
     "name": "stdout",
     "output_type": "stream",
     "text": [
      "Min Rating: 0.5\n",
      "Max Rating: 5.0\n"
     ]
    }
   ],
   "source": [
    "print('Min Rating:', df['rating'].min())\n",
    "print('Max Rating:', df['rating'].max())"
   ]
  },
  {
   "cell_type": "markdown",
   "id": "f1b6c88b",
   "metadata": {},
   "source": [
    "## Data Preprocessing"
   ]
  },
  {
   "cell_type": "markdown",
   "id": "3c83868d",
   "metadata": {},
   "source": [
    "### Drop missing user ids"
   ]
  },
  {
   "cell_type": "code",
   "execution_count": 11,
   "id": "11d4cc16",
   "metadata": {
    "ExecuteTime": {
     "end_time": "2022-10-16T02:27:32.449614Z",
     "start_time": "2022-10-16T02:27:29.219174Z"
    }
   },
   "outputs": [
    {
     "data": {
      "text/plain": [
       "20000263"
      ]
     },
     "execution_count": 11,
     "metadata": {},
     "output_type": "execute_result"
    }
   ],
   "source": [
    "df = df.dropna(subset=[\"userId\"], axis=0)\n",
    "len(df)"
   ]
  },
  {
   "cell_type": "markdown",
   "id": "8e9de304",
   "metadata": {},
   "source": [
    "### Removes `genres`, `timestamp`, and `title` column"
   ]
  },
  {
   "cell_type": "code",
   "execution_count": 12,
   "id": "a3fec4b9",
   "metadata": {
    "ExecuteTime": {
     "end_time": "2022-10-16T02:27:33.088646Z",
     "start_time": "2022-10-16T02:27:32.452616Z"
    }
   },
   "outputs": [
    {
     "data": {
      "text/html": [
       "<div>\n",
       "<style scoped>\n",
       "    .dataframe tbody tr th:only-of-type {\n",
       "        vertical-align: middle;\n",
       "    }\n",
       "\n",
       "    .dataframe tbody tr th {\n",
       "        vertical-align: top;\n",
       "    }\n",
       "\n",
       "    .dataframe thead th {\n",
       "        text-align: right;\n",
       "    }\n",
       "</style>\n",
       "<table border=\"1\" class=\"dataframe\">\n",
       "  <thead>\n",
       "    <tr style=\"text-align: right;\">\n",
       "      <th></th>\n",
       "      <th>movieId</th>\n",
       "      <th>userId</th>\n",
       "      <th>rating</th>\n",
       "    </tr>\n",
       "  </thead>\n",
       "  <tbody>\n",
       "    <tr>\n",
       "      <th>0</th>\n",
       "      <td>1</td>\n",
       "      <td>3</td>\n",
       "      <td>4.0</td>\n",
       "    </tr>\n",
       "    <tr>\n",
       "      <th>1</th>\n",
       "      <td>1</td>\n",
       "      <td>6</td>\n",
       "      <td>5.0</td>\n",
       "    </tr>\n",
       "    <tr>\n",
       "      <th>2</th>\n",
       "      <td>1</td>\n",
       "      <td>8</td>\n",
       "      <td>4.0</td>\n",
       "    </tr>\n",
       "    <tr>\n",
       "      <th>3</th>\n",
       "      <td>1</td>\n",
       "      <td>10</td>\n",
       "      <td>4.0</td>\n",
       "    </tr>\n",
       "    <tr>\n",
       "      <th>4</th>\n",
       "      <td>1</td>\n",
       "      <td>11</td>\n",
       "      <td>4.5</td>\n",
       "    </tr>\n",
       "  </tbody>\n",
       "</table>\n",
       "</div>"
      ],
      "text/plain": [
       "   movieId  userId  rating\n",
       "0        1       3     4.0\n",
       "1        1       6     5.0\n",
       "2        1       8     4.0\n",
       "3        1      10     4.0\n",
       "4        1      11     4.5"
      ]
     },
     "execution_count": 12,
     "metadata": {},
     "output_type": "execute_result"
    }
   ],
   "source": [
    "# Remove column name 'genres', 'timestamp' and 'title'\n",
    "df = df.drop(['genres', 'timestamp', 'title'], axis=1)\n",
    "df['userId'] = df['userId'].astype(int)\n",
    "df.head()"
   ]
  },
  {
   "cell_type": "markdown",
   "id": "4e043bfc",
   "metadata": {},
   "source": [
    "### Filter to top 1,000 movies and top 1,000 users"
   ]
  },
  {
   "cell_type": "code",
   "execution_count": 13,
   "id": "d7ff9f2b",
   "metadata": {
    "ExecuteTime": {
     "end_time": "2022-10-16T02:27:33.103629Z",
     "start_time": "2022-10-16T02:27:33.089631Z"
    }
   },
   "outputs": [],
   "source": [
    "n_users = 1000\n",
    "n_movies = 1000"
   ]
  },
  {
   "cell_type": "code",
   "execution_count": 14,
   "id": "0d8f80a7",
   "metadata": {
    "ExecuteTime": {
     "end_time": "2022-10-16T02:27:33.773855Z",
     "start_time": "2022-10-16T02:27:33.105629Z"
    }
   },
   "outputs": [
    {
     "data": {
      "text/html": [
       "<div>\n",
       "<style scoped>\n",
       "    .dataframe tbody tr th:only-of-type {\n",
       "        vertical-align: middle;\n",
       "    }\n",
       "\n",
       "    .dataframe tbody tr th {\n",
       "        vertical-align: top;\n",
       "    }\n",
       "\n",
       "    .dataframe thead th {\n",
       "        text-align: right;\n",
       "    }\n",
       "</style>\n",
       "<table border=\"1\" class=\"dataframe\">\n",
       "  <thead>\n",
       "    <tr style=\"text-align: right;\">\n",
       "      <th></th>\n",
       "      <th>movieId</th>\n",
       "      <th>userId</th>\n",
       "      <th>rating</th>\n",
       "    </tr>\n",
       "  </thead>\n",
       "  <tbody>\n",
       "    <tr>\n",
       "      <th>56</th>\n",
       "      <td>1</td>\n",
       "      <td>156</td>\n",
       "      <td>5.0</td>\n",
       "    </tr>\n",
       "    <tr>\n",
       "      <th>71</th>\n",
       "      <td>1</td>\n",
       "      <td>208</td>\n",
       "      <td>4.0</td>\n",
       "    </tr>\n",
       "    <tr>\n",
       "      <th>123</th>\n",
       "      <td>1</td>\n",
       "      <td>359</td>\n",
       "      <td>5.0</td>\n",
       "    </tr>\n",
       "    <tr>\n",
       "      <th>186</th>\n",
       "      <td>1</td>\n",
       "      <td>572</td>\n",
       "      <td>5.0</td>\n",
       "    </tr>\n",
       "    <tr>\n",
       "      <th>190</th>\n",
       "      <td>1</td>\n",
       "      <td>586</td>\n",
       "      <td>2.5</td>\n",
       "    </tr>\n",
       "  </tbody>\n",
       "</table>\n",
       "</div>"
      ],
      "text/plain": [
       "     movieId  userId  rating\n",
       "56         1     156     5.0\n",
       "71         1     208     4.0\n",
       "123        1     359     5.0\n",
       "186        1     572     5.0\n",
       "190        1     586     2.5"
      ]
     },
     "execution_count": 14,
     "metadata": {},
     "output_type": "execute_result"
    }
   ],
   "source": [
    "titles = df['movieId'].value_counts().head(n_movies).index # top  1,000 most-rated movies\n",
    "users = df['userId'].value_counts().head(n_users).index  # top 1,000 users with the most number of ratings\n",
    "\n",
    "top_df = df[(df['movieId'].isin(titles) & df['userId'].isin(users))]\n",
    "top_df.head()"
   ]
  },
  {
   "cell_type": "code",
   "execution_count": 15,
   "id": "dd1cda44",
   "metadata": {
    "ExecuteTime": {
     "end_time": "2022-10-16T02:27:33.805364Z",
     "start_time": "2022-10-16T02:27:33.774847Z"
    }
   },
   "outputs": [
    {
     "name": "stdout",
     "output_type": "stream",
     "text": [
      "Number of users: 1000\n",
      "Number of movies: 1000\n",
      "Number of ratings: 627078\n",
      "Average number of ratings per user: 627.078\n"
     ]
    }
   ],
   "source": [
    "print('Number of users:', top_df['userId'].nunique())\n",
    "print('Number of movies:', top_df['movieId'].nunique()) \n",
    "print('Number of ratings:', len(top_df))\n",
    "print('Average number of ratings per user:', top_df.groupby('userId').count()['movieId'].mean())"
   ]
  },
  {
   "cell_type": "markdown",
   "id": "e25f71cc",
   "metadata": {},
   "source": [
    "#### Convert table format into user-item matrix (utility matrix) format "
   ]
  },
  {
   "cell_type": "code",
   "execution_count": 25,
   "id": "e802082e",
   "metadata": {
    "ExecuteTime": {
     "end_time": "2022-10-16T02:31:23.139607Z",
     "start_time": "2022-10-16T02:31:22.882042Z"
    }
   },
   "outputs": [
    {
     "name": "stdout",
     "output_type": "stream",
     "text": [
      "Shape: (1000, 1000)\n",
      "Sparsity: 37.29%\n"
     ]
    }
   ],
   "source": [
    "top_um= top_df.pivot_table(index=[\"userId\"], columns=[\"movieId\"], values=\"rating\").to_numpy(dtype=np.float32, na_value=0)\n",
    "sparsity = (1.0 - np.count_nonzero(top_um) / top_um.size) * 100\n",
    "\n",
    "print('Shape:', top_um.shape)\n",
    "print('Sparsity: %.2f%%' % sparsity)"
   ]
  },
  {
   "cell_type": "markdown",
   "id": "9ba5d5f5",
   "metadata": {},
   "source": [
    "### Filter to top 1,000 movies and 1,000 random users"
   ]
  },
  {
   "cell_type": "code",
   "execution_count": 17,
   "id": "83bcc29a",
   "metadata": {
    "ExecuteTime": {
     "end_time": "2022-10-16T02:27:36.944324Z",
     "start_time": "2022-10-16T02:27:34.088117Z"
    }
   },
   "outputs": [],
   "source": [
    "titles = df['movieId'].value_counts().head(n_movies).index # top  1,000 most-rated movies\n",
    "users = df.groupby('userId').count().sample(n=n_users, random_state=0).index\n",
    "\n",
    "random_df = df[df['movieId'].isin(titles)][df['userId'].isin(users)]\n",
    "random_df.head()\n",
    "\n",
    "del df"
   ]
  },
  {
   "cell_type": "code",
   "execution_count": 18,
   "id": "d9941759",
   "metadata": {
    "ExecuteTime": {
     "end_time": "2022-10-16T02:27:36.959323Z",
     "start_time": "2022-10-16T02:27:36.945307Z"
    }
   },
   "outputs": [
    {
     "name": "stdout",
     "output_type": "stream",
     "text": [
      "Number of users: 1000\n",
      "Number of movies: 1000\n",
      "Number of ratings: 97366\n",
      "Average number of ratings per user: 97.366\n"
     ]
    }
   ],
   "source": [
    "print('Number of users:', random_df['userId'].nunique())\n",
    "print('Number of movies:', random_df['movieId'].nunique())\n",
    "print('Number of ratings:', len(random_df))\n",
    "print('Average number of ratings per user:', random_df.groupby('userId').count()['movieId'].mean())"
   ]
  },
  {
   "cell_type": "markdown",
   "id": "9d84178c",
   "metadata": {},
   "source": [
    "#### Convert table format into user-item matrix (utility matrix) format "
   ]
  },
  {
   "cell_type": "code",
   "execution_count": 24,
   "id": "ec79cc0f",
   "metadata": {
    "ExecuteTime": {
     "end_time": "2022-10-16T02:31:21.473857Z",
     "start_time": "2022-10-16T02:31:21.413845Z"
    }
   },
   "outputs": [
    {
     "name": "stdout",
     "output_type": "stream",
     "text": [
      "Shape: (1000, 1000)\n",
      "Sparsity: 90.26%\n"
     ]
    }
   ],
   "source": [
    "random_um= random_df.pivot_table(index=[\"userId\"], columns=[\"movieId\"], values=\"rating\").to_numpy(dtype=np.float32, na_value=0)\n",
    "sparsity = (1.0 - np.count_nonzero(random_um) / random_um.size) * 100\n",
    "\n",
    "print('Shape:', random_um.shape)\n",
    "print('Sparsity: %.2f%%' % sparsity)"
   ]
  },
  {
   "cell_type": "markdown",
   "id": "73f8d3af",
   "metadata": {},
   "source": [
    "### Get MSE on avg rating per user and avg rating per movie"
   ]
  },
  {
   "cell_type": "code",
   "execution_count": 26,
   "id": "ca085ed1",
   "metadata": {
    "ExecuteTime": {
     "end_time": "2022-10-16T02:31:25.104295Z",
     "start_time": "2022-10-16T02:31:24.937272Z"
    }
   },
   "outputs": [
    {
     "name": "stdout",
     "output_type": "stream",
     "text": [
      "MSE based on average user rating: 0.8692040703070432\n",
      "MSE based on average movie rating: 1.184244324470002\n",
      "Unique values: [0.  0.5 1.  1.5 2.  2.5 3.  3.5 4.  4.5 5. ]\n",
      "--------------------\n",
      "MSE based on average user rating: 0.8742411846794569\n",
      "MSE based on average movie rating: 1.2724553809851489\n",
      "Unique values: [0.  0.5 1.  1.5 2.  2.5 3.  3.5 4.  4.5 5. ]\n",
      "--------------------\n"
     ]
    }
   ],
   "source": [
    "utility_matrices = [top_um, random_um]\n",
    "\n",
    "for um in utility_matrices:\n",
    "    average_rating_per_user = [np.mean(row[row > 0]) for row in um]\n",
    "    print('MSE based on average user rating:', np.sum([np.sum(np.square(row[row > 0] - average_rating_per_user[i])) for i, row in enumerate(um)]) / len(um[um > 0]))\n",
    "    \n",
    "    average_rating_per_movie = [np.mean(column[column > 0]) for column in um.T]\n",
    "    print('MSE based on average movie rating:', np.sum([np.sum(np.square(column[column > 0] - average_rating_per_user[i])) for i, column in enumerate(um.T)]) / len(um[um > 0]))\n",
    "    \n",
    "    print('Unique values:', np.unique(um))\n",
    "    print('-' * 20)"
   ]
  },
  {
   "cell_type": "markdown",
   "id": "96d676c0",
   "metadata": {},
   "source": [
    "### Convert utility matrix ratings from 0 until 5 to -1 until 1 \n",
    "[0] values means missing values to be converted to -1  \n",
    "[0.5, 1, 1.5, 2] values means low ratings to be converted to 0 (labeled as bad ratings)  \n",
    "[2.5, 3, 3.5, 4, 4.5, 5] values means high ratings to be converted to 1 (labeled as good ratings)"
   ]
  },
  {
   "cell_type": "code",
   "execution_count": 27,
   "id": "1b356112",
   "metadata": {
    "ExecuteTime": {
     "end_time": "2022-10-16T02:31:26.914166Z",
     "start_time": "2022-10-16T02:31:26.863630Z"
    }
   },
   "outputs": [
    {
     "name": "stdout",
     "output_type": "stream",
     "text": [
      "[0.  0.1 0.2 0.3 0.4 0.5 0.6 0.7 0.8 0.9 1. ]\n",
      "[0.  0.1 0.2 0.3 0.4 0.5 0.6 0.7 0.8 0.9 1. ]\n"
     ]
    }
   ],
   "source": [
    "normalized_utility_matrices = []\n",
    "for i, um in enumerate(utility_matrices):\n",
    "    normalized_utility_matrices.append(um / 5)\n",
    "    \n",
    "    print(np.unique(normalized_utility_matrices[i]))"
   ]
  },
  {
   "cell_type": "markdown",
   "id": "fad9d5e9",
   "metadata": {},
   "source": [
    "## Models"
   ]
  },
  {
   "cell_type": "markdown",
   "id": "3d5fd354",
   "metadata": {},
   "source": [
    "### Matrix Factorization Models"
   ]
  },
  {
   "cell_type": "markdown",
   "id": "6f6a25e7",
   "metadata": {},
   "source": [
    "#### Importing the Matrix Factorizatoin Model"
   ]
  },
  {
   "cell_type": "code",
   "execution_count": 35,
   "id": "20f2322b",
   "metadata": {
    "ExecuteTime": {
     "end_time": "2022-10-16T03:19:57.449918Z",
     "start_time": "2022-10-16T03:19:57.442934Z"
    }
   },
   "outputs": [],
   "source": [
    "from matrix_factorization import MF"
   ]
  },
  {
   "cell_type": "markdown",
   "id": "a55cd3ae",
   "metadata": {},
   "source": [
    "#### Training"
   ]
  },
  {
   "cell_type": "code",
   "execution_count": 37,
   "id": "da048ee1",
   "metadata": {
    "ExecuteTime": {
     "end_time": "2022-10-16T03:32:02.323120Z",
     "start_time": "2022-10-16T03:20:23.411968Z"
    },
    "scrolled": true
   },
   "outputs": [
    {
     "name": "stdout",
     "output_type": "stream",
     "text": [
      "Epoch: 1 ; error = 0.6661\n",
      "Epoch: 2 ; error = 0.6568\n",
      "Epoch: 3 ; error = 0.6450\n",
      "Epoch: 4 ; error = 0.6210\n",
      "Epoch: 5 ; error = 0.6056\n",
      "Epoch: 6 ; error = 0.5992\n",
      "Epoch: 7 ; error = 0.5952\n",
      "Epoch: 8 ; error = 0.5920\n",
      "Epoch: 9 ; error = 0.5904\n",
      "Epoch: 10 ; error = 0.5891\n",
      "Epoch: 11 ; error = 0.5885\n",
      "Epoch: 12 ; error = 0.5877\n",
      "Epoch: 13 ; error = 0.5870\n",
      "Epoch: 14 ; error = 0.5865\n",
      "Epoch: 15 ; error = 0.5861\n",
      "Epoch: 16 ; error = 0.5855\n",
      "Epoch: 17 ; error = 0.5846\n",
      "Epoch: 18 ; error = 0.5840\n",
      "Epoch: 19 ; error = 0.5833\n",
      "Epoch: 20 ; error = 0.5825\n",
      "Epoch: 21 ; error = 0.5819\n",
      "Epoch: 22 ; error = 0.5814\n",
      "Epoch: 23 ; error = 0.5807\n",
      "Epoch: 24 ; error = 0.5804\n",
      "Epoch: 25 ; error = 0.5802\n",
      "Epoch: 26 ; error = 0.5796\n",
      "Epoch: 27 ; error = 0.5794\n",
      "Epoch: 28 ; error = 0.5791\n",
      "Epoch: 29 ; error = 0.5791\n",
      "Epoch: 30 ; error = 0.5791\n",
      "Epoch: 31 ; error = 0.5789\n",
      "Epoch: 32 ; error = 0.5789\n",
      "Epoch: 33 ; error = 0.5788\n",
      "Epoch: 34 ; error = 0.5788\n",
      "Epoch: 35 ; error = 0.5788\n",
      "Epoch: 36 ; error = 0.5789\n",
      "Epoch: 37 ; error = 0.5787\n",
      "Epoch: 38 ; error = 0.5788\n",
      "Epoch: 39 ; error = 0.5788\n",
      "Epoch: 40 ; error = 0.5787\n",
      "Epoch: 41 ; error = 0.5786\n",
      "Epoch: 42 ; error = 0.5790\n",
      "Epoch: 43 ; error = 0.5788\n",
      "Epoch: 44 ; error = 0.5789\n",
      "Epoch: 45 ; error = 0.5788\n",
      "Epoch: 46 ; error = 0.5788\n",
      "Epoch: 47 ; error = 0.5788\n",
      "Epoch: 48 ; error = 0.5790\n",
      "Epoch: 49 ; error = 0.5790\n",
      "Epoch: 50 ; error = 0.5788\n",
      "Epoch: 1 ; error = 0.8196\n",
      "Epoch: 2 ; error = 0.7616\n",
      "Epoch: 3 ; error = 0.7388\n",
      "Epoch: 4 ; error = 0.7263\n",
      "Epoch: 5 ; error = 0.7191\n",
      "Epoch: 6 ; error = 0.7139\n",
      "Epoch: 7 ; error = 0.7100\n",
      "Epoch: 8 ; error = 0.7068\n",
      "Epoch: 9 ; error = 0.7041\n",
      "Epoch: 10 ; error = 0.7015\n",
      "Epoch: 11 ; error = 0.6990\n",
      "Epoch: 12 ; error = 0.6966\n",
      "Epoch: 13 ; error = 0.6939\n",
      "Epoch: 14 ; error = 0.6915\n",
      "Epoch: 15 ; error = 0.6888\n",
      "Epoch: 16 ; error = 0.6861\n",
      "Epoch: 17 ; error = 0.6832\n",
      "Epoch: 18 ; error = 0.6802\n",
      "Epoch: 19 ; error = 0.6771\n",
      "Epoch: 20 ; error = 0.6739\n",
      "Epoch: 21 ; error = 0.6706\n",
      "Epoch: 22 ; error = 0.6675\n",
      "Epoch: 23 ; error = 0.6641\n",
      "Epoch: 24 ; error = 0.6609\n",
      "Epoch: 25 ; error = 0.6577\n",
      "Epoch: 26 ; error = 0.6547\n",
      "Epoch: 27 ; error = 0.6515\n",
      "Epoch: 28 ; error = 0.6487\n",
      "Epoch: 29 ; error = 0.6463\n",
      "Epoch: 30 ; error = 0.6435\n",
      "Epoch: 31 ; error = 0.6411\n",
      "Epoch: 32 ; error = 0.6388\n",
      "Epoch: 33 ; error = 0.6367\n",
      "Epoch: 34 ; error = 0.6349\n",
      "Epoch: 35 ; error = 0.6330\n",
      "Epoch: 36 ; error = 0.6315\n",
      "Epoch: 37 ; error = 0.6299\n",
      "Epoch: 38 ; error = 0.6283\n",
      "Epoch: 39 ; error = 0.6269\n",
      "Epoch: 40 ; error = 0.6257\n",
      "Epoch: 41 ; error = 0.6245\n",
      "Epoch: 42 ; error = 0.6233\n",
      "Epoch: 43 ; error = 0.6223\n",
      "Epoch: 44 ; error = 0.6215\n",
      "Epoch: 45 ; error = 0.6205\n",
      "Epoch: 46 ; error = 0.6197\n",
      "Epoch: 47 ; error = 0.6188\n",
      "Epoch: 48 ; error = 0.6181\n",
      "Epoch: 49 ; error = 0.6174\n",
      "Epoch: 50 ; error = 0.6168\n"
     ]
    }
   ],
   "source": [
    "training_results = []\n",
    "predictions = []\n",
    "\n",
    "for i in range(len(utility_matrices)):\n",
    "    # Initialize the Matrix Factorization model\n",
    "    mf = MF(utility_matrices[i], 2, alpha=0.008, beta=0.002, iterations=50)\n",
    "    \n",
    "    # Trains the model\n",
    "    training_result = mf.train()\n",
    "    \n",
    "    # Stores the final full matrix\n",
    "    predictions.append(mf.full_matrix())\n",
    "    \n",
    "    # Stores the results\n",
    "    training_results.append(training_result)"
   ]
  },
  {
   "cell_type": "code",
   "execution_count": 38,
   "id": "728ed80a",
   "metadata": {
    "ExecuteTime": {
     "end_time": "2022-10-16T03:57:15.384241Z",
     "start_time": "2022-10-16T03:57:15.225982Z"
    }
   },
   "outputs": [
    {
     "data": {
      "image/png": "[encoded data removed]",
      "text/plain": [
       "<Figure size 1152x432 with 2 Axes>"
      ]
     },
     "metadata": {
      "needs_background": "light"
     },
     "output_type": "display_data"
    }
   ],
   "source": [
    "fig = plt.figure(figsize=(16, 6))\n",
    "titles = ['Top 1,000 Users', '1,000 Random Users']\n",
    "\n",
    "row = 1\n",
    "col = 2\n",
    "\n",
    "for i in range(len(utility_matrices)):\n",
    "    # Adds a subplot at the 1st position\n",
    "    fig.add_subplot(row, col, i + 1)\n",
    "    pd.Series(training_results[i]).plot(logy=False)\n",
    "    plt.xlabel(\"Epoch\")\n",
    "    plt.ylabel(\"MSE Error\")\n",
    "    plt.title(titles[i])\n",
    "\n",
    "plt.show()"
   ]
  },
  {
   "cell_type": "markdown",
   "id": "cd65fe7d",
   "metadata": {},
   "source": [
    "#### TODO - randomly get a random row/column for each types of data and compare"
   ]
  },
  {
   "cell_type": "code",
   "execution_count": null,
   "id": "8298bbe4",
   "metadata": {},
   "outputs": [],
   "source": []
  },
  {
   "cell_type": "markdown",
   "id": "e779fa0b",
   "metadata": {},
   "source": [
    "### Random Boltzmann Machine Models\n",
    "https://github.com/echen/restricted-boltzmann-machines"
   ]
  },
  {
   "cell_type": "markdown",
   "id": "48fa22e8",
   "metadata": {},
   "source": [
    "#### Importing the RBM Model"
   ]
  },
  {
   "cell_type": "code",
   "execution_count": 26,
   "id": "a76896bb",
   "metadata": {
    "ExecuteTime": {
     "end_time": "2022-10-16T02:25:01.420900Z",
     "start_time": "2022-10-16T02:24:56.209606Z"
    }
   },
   "outputs": [
    {
     "name": "stdout",
     "output_type": "stream",
     "text": [
      "WARNING:tensorflow:From C:\\users\\chris\\appdata\\local\\programs\\python\\python38\\lib\\site-packages\\tensorflow\\python\\compat\\v2_compat.py:107: disable_resource_variables (from tensorflow.python.ops.variable_scope) is deprecated and will be removed in a future version.\n",
      "Instructions for updating:\n",
      "non-resource variables are not supported in the long term\n"
     ]
    }
   ],
   "source": [
    "from rbm import RBM"
   ]
  },
  {
   "cell_type": "markdown",
   "id": "7cbac65f",
   "metadata": {},
   "source": [
    "#### Training the RBM Model"
   ]
  },
  {
   "cell_type": "code",
   "execution_count": 28,
   "id": "1847e31c",
   "metadata": {
    "ExecuteTime": {
     "end_time": "2022-10-16T02:25:28.956577Z",
     "start_time": "2022-10-16T02:25:22.214240Z"
    },
    "scrolled": true
   },
   "outputs": [
    {
     "name": "stdout",
     "output_type": "stream",
     "text": [
      "Epoch: 0 ; reconstruction error: 0.966194\n",
      "Epoch: 1 ; reconstruction error: 0.955088\n",
      "Epoch: 2 ; reconstruction error: 0.956643\n",
      "Epoch: 3 ; reconstruction error: 0.958166\n",
      "Epoch: 4 ; reconstruction error: 0.960479\n",
      "Epoch: 5 ; reconstruction error: 0.961828\n",
      "Epoch: 6 ; reconstruction error: 0.963132\n",
      "Epoch: 7 ; reconstruction error: 0.964680\n",
      "Epoch: 8 ; reconstruction error: 0.964711\n",
      "Epoch: 9 ; reconstruction error: 0.967344\n",
      "Epoch: 10 ; reconstruction error: 0.968241\n",
      "Epoch: 11 ; reconstruction error: 0.967675\n",
      "Epoch: 12 ; reconstruction error: 0.967319\n",
      "Epoch: 13 ; reconstruction error: 0.968308\n",
      "Epoch: 14 ; reconstruction error: 0.968328\n",
      "Epoch: 15 ; reconstruction error: 0.969061\n",
      "Epoch: 16 ; reconstruction error: 0.971061\n",
      "Epoch: 17 ; reconstruction error: 0.969984\n",
      "Epoch: 18 ; reconstruction error: 0.969772\n",
      "Epoch: 19 ; reconstruction error: 0.969277\n",
      "Epoch: 20 ; reconstruction error: 0.970222\n",
      "Epoch: 21 ; reconstruction error: 0.971348\n",
      "Epoch: 22 ; reconstruction error: 0.970797\n",
      "Epoch: 23 ; reconstruction error: 0.970981\n",
      "Epoch: 24 ; reconstruction error: 0.971538\n",
      "Epoch: 25 ; reconstruction error: 0.970627\n",
      "Epoch: 26 ; reconstruction error: 0.969762\n",
      "Epoch: 27 ; reconstruction error: 0.973284\n",
      "Epoch: 28 ; reconstruction error: 0.971760\n",
      "Epoch: 29 ; reconstruction error: 0.972096\n",
      "Epoch: 30 ; reconstruction error: 0.973226\n",
      "Epoch: 31 ; reconstruction error: 0.971053\n",
      "Epoch: 32 ; reconstruction error: 0.970409\n",
      "Epoch: 33 ; reconstruction error: 0.972793\n",
      "Epoch: 34 ; reconstruction error: 0.972946\n",
      "Epoch: 35 ; reconstruction error: 0.971882\n",
      "Epoch: 36 ; reconstruction error: 0.973119\n",
      "Epoch: 37 ; reconstruction error: 0.972407\n",
      "Epoch: 38 ; reconstruction error: 0.972995\n",
      "Epoch: 39 ; reconstruction error: 0.972465\n",
      "Epoch: 40 ; reconstruction error: 0.973591\n",
      "Epoch: 41 ; reconstruction error: 0.972880\n",
      "Epoch: 42 ; reconstruction error: 0.973353\n",
      "Epoch: 43 ; reconstruction error: 0.972864\n",
      "Epoch: 44 ; reconstruction error: 0.973286\n",
      "Epoch: 45 ; reconstruction error: 0.972683\n",
      "Epoch: 46 ; reconstruction error: 0.972922\n",
      "Epoch: 47 ; reconstruction error: 0.973743\n",
      "Epoch: 48 ; reconstruction error: 0.973235\n",
      "Epoch: 49 ; reconstruction error: 0.973672\n",
      "Epoch: 50 ; reconstruction error: 0.972979\n",
      "Epoch: 51 ; reconstruction error: 0.973398\n",
      "Epoch: 52 ; reconstruction error: 0.973616\n",
      "Epoch: 53 ; reconstruction error: 0.973227\n",
      "Epoch: 54 ; reconstruction error: 0.974301\n",
      "Epoch: 55 ; reconstruction error: 0.972737\n",
      "Epoch: 56 ; reconstruction error: 0.973730\n"
     ]
    },
    {
     "ename": "KeyboardInterrupt",
     "evalue": "",
     "output_type": "error",
     "traceback": [
      "\u001b[1;31m---------------------------------------------------------------------------\u001b[0m",
      "\u001b[1;31mKeyboardInterrupt\u001b[0m                         Traceback (most recent call last)",
      "Input \u001b[1;32mIn [28]\u001b[0m, in \u001b[0;36m<cell line: 3>\u001b[1;34m()\u001b[0m\n\u001b[0;32m      5\u001b[0m rbm\u001b[38;5;241m=\u001b[39mRBM(n_users, n_movies, learning_rate\u001b[38;5;241m=\u001b[39m\u001b[38;5;241m0.01\u001b[39m, epochs\u001b[38;5;241m=\u001b[39m\u001b[38;5;241m1000\u001b[39m, batch_size\u001b[38;5;241m=\u001b[39m\u001b[38;5;241m200\u001b[39m)\n\u001b[0;32m      7\u001b[0m \u001b[38;5;66;03m# Trains the model\u001b[39;00m\n\u001b[1;32m----> 8\u001b[0m training_result \u001b[38;5;241m=\u001b[39m \u001b[43mrbm\u001b[49m\u001b[38;5;241;43m.\u001b[39;49m\u001b[43mtrain\u001b[49m\u001b[43m(\u001b[49m\u001b[43mum\u001b[49m\u001b[43m)\u001b[49m\n\u001b[0;32m     10\u001b[0m output, predicted, _ \u001b[38;5;241m=\u001b[39m rbm\u001b[38;5;241m.\u001b[39mrbm_output(um)\n\u001b[0;32m     12\u001b[0m data\u001b[38;5;241m.\u001b[39mappend({\n\u001b[0;32m     13\u001b[0m     \u001b[38;5;124m'\u001b[39m\u001b[38;5;124mmodel\u001b[39m\u001b[38;5;124m'\u001b[39m: rbm,\n\u001b[0;32m     14\u001b[0m     \u001b[38;5;124m'\u001b[39m\u001b[38;5;124moutput\u001b[39m\u001b[38;5;124m'\u001b[39m: output,\n\u001b[0;32m     15\u001b[0m     \u001b[38;5;124m'\u001b[39m\u001b[38;5;124mpredicted\u001b[39m\u001b[38;5;124m'\u001b[39m: predicted,\n\u001b[0;32m     16\u001b[0m     \u001b[38;5;124m'\u001b[39m\u001b[38;5;124mtraining_result\u001b[39m\u001b[38;5;124m'\u001b[39m: training_result\n\u001b[0;32m     17\u001b[0m })\n",
      "File \u001b[1;32mG:\\My Drive\\DLSU\\Third Year\\Third Term\\USRMODL\\Assignments\\Project 1 - Collaborative Filtering\\codes\\rbm.py:73\u001b[0m, in \u001b[0;36mRBM.train\u001b[1;34m(self, X)\u001b[0m\n\u001b[0;32m     71\u001b[0m batch \u001b[38;5;241m=\u001b[39m X[start:end]\n\u001b[0;32m     72\u001b[0m cur_w \u001b[38;5;241m=\u001b[39m sess\u001b[38;5;241m.\u001b[39mrun(update_w, feed_dict\u001b[38;5;241m=\u001b[39m{v0: batch, _w: prv_w, _hb: prv_hb, _vb: prv_vb})\n\u001b[1;32m---> 73\u001b[0m cur_hb \u001b[38;5;241m=\u001b[39m \u001b[43msess\u001b[49m\u001b[38;5;241;43m.\u001b[39;49m\u001b[43mrun\u001b[49m\u001b[43m(\u001b[49m\u001b[43mupdate_hb\u001b[49m\u001b[43m,\u001b[49m\u001b[43m \u001b[49m\u001b[43mfeed_dict\u001b[49m\u001b[38;5;241;43m=\u001b[39;49m\u001b[43m{\u001b[49m\u001b[43mv0\u001b[49m\u001b[43m:\u001b[49m\u001b[43m \u001b[49m\u001b[43mbatch\u001b[49m\u001b[43m,\u001b[49m\u001b[43m \u001b[49m\u001b[43m_w\u001b[49m\u001b[43m:\u001b[49m\u001b[43m \u001b[49m\u001b[43mprv_w\u001b[49m\u001b[43m,\u001b[49m\u001b[43m \u001b[49m\u001b[43m_hb\u001b[49m\u001b[43m:\u001b[49m\u001b[43m \u001b[49m\u001b[43mprv_hb\u001b[49m\u001b[43m,\u001b[49m\u001b[43m \u001b[49m\u001b[43m_vb\u001b[49m\u001b[43m:\u001b[49m\u001b[43m \u001b[49m\u001b[43mprv_vb\u001b[49m\u001b[43m}\u001b[49m\u001b[43m)\u001b[49m\n\u001b[0;32m     74\u001b[0m cur_vb \u001b[38;5;241m=\u001b[39m sess\u001b[38;5;241m.\u001b[39mrun(update_vb, feed_dict\u001b[38;5;241m=\u001b[39m{v0: batch, _w: prv_w, _hb: prv_hb, _vb: prv_vb})\n\u001b[0;32m     75\u001b[0m prv_w \u001b[38;5;241m=\u001b[39m cur_w\n",
      "File \u001b[1;32mC:\\users\\chris\\appdata\\local\\programs\\python\\python38\\lib\\site-packages\\tensorflow\\python\\client\\session.py:967\u001b[0m, in \u001b[0;36mBaseSession.run\u001b[1;34m(self, fetches, feed_dict, options, run_metadata)\u001b[0m\n\u001b[0;32m    964\u001b[0m run_metadata_ptr \u001b[38;5;241m=\u001b[39m tf_session\u001b[38;5;241m.\u001b[39mTF_NewBuffer() \u001b[38;5;28;01mif\u001b[39;00m run_metadata \u001b[38;5;28;01melse\u001b[39;00m \u001b[38;5;28;01mNone\u001b[39;00m\n\u001b[0;32m    966\u001b[0m \u001b[38;5;28;01mtry\u001b[39;00m:\n\u001b[1;32m--> 967\u001b[0m   result \u001b[38;5;241m=\u001b[39m \u001b[38;5;28;43mself\u001b[39;49m\u001b[38;5;241;43m.\u001b[39;49m\u001b[43m_run\u001b[49m\u001b[43m(\u001b[49m\u001b[38;5;28;43;01mNone\u001b[39;49;00m\u001b[43m,\u001b[49m\u001b[43m \u001b[49m\u001b[43mfetches\u001b[49m\u001b[43m,\u001b[49m\u001b[43m \u001b[49m\u001b[43mfeed_dict\u001b[49m\u001b[43m,\u001b[49m\u001b[43m \u001b[49m\u001b[43moptions_ptr\u001b[49m\u001b[43m,\u001b[49m\n\u001b[0;32m    968\u001b[0m \u001b[43m                     \u001b[49m\u001b[43mrun_metadata_ptr\u001b[49m\u001b[43m)\u001b[49m\n\u001b[0;32m    969\u001b[0m   \u001b[38;5;28;01mif\u001b[39;00m run_metadata:\n\u001b[0;32m    970\u001b[0m     proto_data \u001b[38;5;241m=\u001b[39m tf_session\u001b[38;5;241m.\u001b[39mTF_GetBuffer(run_metadata_ptr)\n",
      "File \u001b[1;32mC:\\users\\chris\\appdata\\local\\programs\\python\\python38\\lib\\site-packages\\tensorflow\\python\\client\\session.py:1190\u001b[0m, in \u001b[0;36mBaseSession._run\u001b[1;34m(self, handle, fetches, feed_dict, options, run_metadata)\u001b[0m\n\u001b[0;32m   1187\u001b[0m \u001b[38;5;66;03m# We only want to really perform the run if fetches or targets are provided,\u001b[39;00m\n\u001b[0;32m   1188\u001b[0m \u001b[38;5;66;03m# or if the call is a partial run that specifies feeds.\u001b[39;00m\n\u001b[0;32m   1189\u001b[0m \u001b[38;5;28;01mif\u001b[39;00m final_fetches \u001b[38;5;129;01mor\u001b[39;00m final_targets \u001b[38;5;129;01mor\u001b[39;00m (handle \u001b[38;5;129;01mand\u001b[39;00m feed_dict_tensor):\n\u001b[1;32m-> 1190\u001b[0m   results \u001b[38;5;241m=\u001b[39m \u001b[38;5;28;43mself\u001b[39;49m\u001b[38;5;241;43m.\u001b[39;49m\u001b[43m_do_run\u001b[49m\u001b[43m(\u001b[49m\u001b[43mhandle\u001b[49m\u001b[43m,\u001b[49m\u001b[43m \u001b[49m\u001b[43mfinal_targets\u001b[49m\u001b[43m,\u001b[49m\u001b[43m \u001b[49m\u001b[43mfinal_fetches\u001b[49m\u001b[43m,\u001b[49m\n\u001b[0;32m   1191\u001b[0m \u001b[43m                         \u001b[49m\u001b[43mfeed_dict_tensor\u001b[49m\u001b[43m,\u001b[49m\u001b[43m \u001b[49m\u001b[43moptions\u001b[49m\u001b[43m,\u001b[49m\u001b[43m \u001b[49m\u001b[43mrun_metadata\u001b[49m\u001b[43m)\u001b[49m\n\u001b[0;32m   1192\u001b[0m \u001b[38;5;28;01melse\u001b[39;00m:\n\u001b[0;32m   1193\u001b[0m   results \u001b[38;5;241m=\u001b[39m []\n",
      "File \u001b[1;32mC:\\users\\chris\\appdata\\local\\programs\\python\\python38\\lib\\site-packages\\tensorflow\\python\\client\\session.py:1370\u001b[0m, in \u001b[0;36mBaseSession._do_run\u001b[1;34m(self, handle, target_list, fetch_list, feed_dict, options, run_metadata)\u001b[0m\n\u001b[0;32m   1367\u001b[0m   \u001b[38;5;28;01mreturn\u001b[39;00m \u001b[38;5;28mself\u001b[39m\u001b[38;5;241m.\u001b[39m_call_tf_sessionprun(handle, feed_dict, fetch_list)\n\u001b[0;32m   1369\u001b[0m \u001b[38;5;28;01mif\u001b[39;00m handle \u001b[38;5;129;01mis\u001b[39;00m \u001b[38;5;28;01mNone\u001b[39;00m:\n\u001b[1;32m-> 1370\u001b[0m   \u001b[38;5;28;01mreturn\u001b[39;00m \u001b[38;5;28;43mself\u001b[39;49m\u001b[38;5;241;43m.\u001b[39;49m\u001b[43m_do_call\u001b[49m\u001b[43m(\u001b[49m\u001b[43m_run_fn\u001b[49m\u001b[43m,\u001b[49m\u001b[43m \u001b[49m\u001b[43mfeeds\u001b[49m\u001b[43m,\u001b[49m\u001b[43m \u001b[49m\u001b[43mfetches\u001b[49m\u001b[43m,\u001b[49m\u001b[43m \u001b[49m\u001b[43mtargets\u001b[49m\u001b[43m,\u001b[49m\u001b[43m \u001b[49m\u001b[43moptions\u001b[49m\u001b[43m,\u001b[49m\n\u001b[0;32m   1371\u001b[0m \u001b[43m                       \u001b[49m\u001b[43mrun_metadata\u001b[49m\u001b[43m)\u001b[49m\n\u001b[0;32m   1372\u001b[0m \u001b[38;5;28;01melse\u001b[39;00m:\n\u001b[0;32m   1373\u001b[0m   \u001b[38;5;28;01mreturn\u001b[39;00m \u001b[38;5;28mself\u001b[39m\u001b[38;5;241m.\u001b[39m_do_call(_prun_fn, handle, feeds, fetches)\n",
      "File \u001b[1;32mC:\\users\\chris\\appdata\\local\\programs\\python\\python38\\lib\\site-packages\\tensorflow\\python\\client\\session.py:1377\u001b[0m, in \u001b[0;36mBaseSession._do_call\u001b[1;34m(self, fn, *args)\u001b[0m\n\u001b[0;32m   1375\u001b[0m \u001b[38;5;28;01mdef\u001b[39;00m \u001b[38;5;21m_do_call\u001b[39m(\u001b[38;5;28mself\u001b[39m, fn, \u001b[38;5;241m*\u001b[39margs):\n\u001b[0;32m   1376\u001b[0m   \u001b[38;5;28;01mtry\u001b[39;00m:\n\u001b[1;32m-> 1377\u001b[0m     \u001b[38;5;28;01mreturn\u001b[39;00m \u001b[43mfn\u001b[49m\u001b[43m(\u001b[49m\u001b[38;5;241;43m*\u001b[39;49m\u001b[43margs\u001b[49m\u001b[43m)\u001b[49m\n\u001b[0;32m   1378\u001b[0m   \u001b[38;5;28;01mexcept\u001b[39;00m errors\u001b[38;5;241m.\u001b[39mOpError \u001b[38;5;28;01mas\u001b[39;00m e:\n\u001b[0;32m   1379\u001b[0m     message \u001b[38;5;241m=\u001b[39m compat\u001b[38;5;241m.\u001b[39mas_text(e\u001b[38;5;241m.\u001b[39mmessage)\n",
      "File \u001b[1;32mC:\\users\\chris\\appdata\\local\\programs\\python\\python38\\lib\\site-packages\\tensorflow\\python\\client\\session.py:1360\u001b[0m, in \u001b[0;36mBaseSession._do_run.<locals>._run_fn\u001b[1;34m(feed_dict, fetch_list, target_list, options, run_metadata)\u001b[0m\n\u001b[0;32m   1357\u001b[0m \u001b[38;5;28;01mdef\u001b[39;00m \u001b[38;5;21m_run_fn\u001b[39m(feed_dict, fetch_list, target_list, options, run_metadata):\n\u001b[0;32m   1358\u001b[0m   \u001b[38;5;66;03m# Ensure any changes to the graph are reflected in the runtime.\u001b[39;00m\n\u001b[0;32m   1359\u001b[0m   \u001b[38;5;28mself\u001b[39m\u001b[38;5;241m.\u001b[39m_extend_graph()\n\u001b[1;32m-> 1360\u001b[0m   \u001b[38;5;28;01mreturn\u001b[39;00m \u001b[38;5;28;43mself\u001b[39;49m\u001b[38;5;241;43m.\u001b[39;49m\u001b[43m_call_tf_sessionrun\u001b[49m\u001b[43m(\u001b[49m\u001b[43moptions\u001b[49m\u001b[43m,\u001b[49m\u001b[43m \u001b[49m\u001b[43mfeed_dict\u001b[49m\u001b[43m,\u001b[49m\u001b[43m \u001b[49m\u001b[43mfetch_list\u001b[49m\u001b[43m,\u001b[49m\n\u001b[0;32m   1361\u001b[0m \u001b[43m                                  \u001b[49m\u001b[43mtarget_list\u001b[49m\u001b[43m,\u001b[49m\u001b[43m \u001b[49m\u001b[43mrun_metadata\u001b[49m\u001b[43m)\u001b[49m\n",
      "File \u001b[1;32mC:\\users\\chris\\appdata\\local\\programs\\python\\python38\\lib\\site-packages\\tensorflow\\python\\client\\session.py:1453\u001b[0m, in \u001b[0;36mBaseSession._call_tf_sessionrun\u001b[1;34m(self, options, feed_dict, fetch_list, target_list, run_metadata)\u001b[0m\n\u001b[0;32m   1451\u001b[0m \u001b[38;5;28;01mdef\u001b[39;00m \u001b[38;5;21m_call_tf_sessionrun\u001b[39m(\u001b[38;5;28mself\u001b[39m, options, feed_dict, fetch_list, target_list,\n\u001b[0;32m   1452\u001b[0m                         run_metadata):\n\u001b[1;32m-> 1453\u001b[0m   \u001b[38;5;28;01mreturn\u001b[39;00m \u001b[43mtf_session\u001b[49m\u001b[38;5;241;43m.\u001b[39;49m\u001b[43mTF_SessionRun_wrapper\u001b[49m\u001b[43m(\u001b[49m\u001b[38;5;28;43mself\u001b[39;49m\u001b[38;5;241;43m.\u001b[39;49m\u001b[43m_session\u001b[49m\u001b[43m,\u001b[49m\u001b[43m \u001b[49m\u001b[43moptions\u001b[49m\u001b[43m,\u001b[49m\u001b[43m \u001b[49m\u001b[43mfeed_dict\u001b[49m\u001b[43m,\u001b[49m\n\u001b[0;32m   1454\u001b[0m \u001b[43m                                          \u001b[49m\u001b[43mfetch_list\u001b[49m\u001b[43m,\u001b[49m\u001b[43m \u001b[49m\u001b[43mtarget_list\u001b[49m\u001b[43m,\u001b[49m\n\u001b[0;32m   1455\u001b[0m \u001b[43m                                          \u001b[49m\u001b[43mrun_metadata\u001b[49m\u001b[43m)\u001b[49m\n",
      "\u001b[1;31mKeyboardInterrupt\u001b[0m: "
     ]
    }
   ],
   "source": [
    "data = []\n",
    "\n",
    "for um in normalized_utility_matrices:\n",
    "    # Define the parameters of the RBMs we will train\n",
    "    rbm=RBM(n_users, n_movies, learning_rate=0.01, epochs=1000, batch_size=200)\n",
    "    \n",
    "    # Trains the model\n",
    "    training_result = rbm.train(um)\n",
    "    \n",
    "    output, predicted, _ = rbm.rbm_output(um)\n",
    "    \n",
    "    data.append({\n",
    "        'model': rbm,\n",
    "        'output': output,\n",
    "        'predicted': predicted,\n",
    "        'training_result': training_result\n",
    "    })"
   ]
  },
  {
   "cell_type": "markdown",
   "id": "d0046ac8",
   "metadata": {},
   "source": [
    "#### Visualization Errors"
   ]
  },
  {
   "cell_type": "code",
   "execution_count": 28,
   "id": "0d65dbb9",
   "metadata": {
    "ExecuteTime": {
     "end_time": "2022-10-15T12:10:17.451663Z",
     "start_time": "2022-10-15T12:10:17.320417Z"
    }
   },
   "outputs": [
    {
     "data": {
      "image/png": "[encoded data removed]",
      "text/plain": [
       "<Figure size 1152x432 with 2 Axes>"
      ]
     },
     "metadata": {
      "needs_background": "light"
     },
     "output_type": "display_data"
    }
   ],
   "source": [
    "fig = plt.figure(figsize=(16, 6))\n",
    "titles = ['Top 1,000 Users', '1,000 Random Users']\n",
    "\n",
    "row = 1\n",
    "col = 2\n",
    "\n",
    "for i, d in enumerate(data):\n",
    "    # Adds a subplot at the 1st position\n",
    "    fig.add_subplot(row, col, i + 1)\n",
    "    pd.Series(d['training_result']).plot(logy=False)\n",
    "    plt.xlabel(\"Epoch\")\n",
    "    plt.ylabel(\"RMSE Error\")\n",
    "    plt.title(titles[i] + (' (%.4f)' % (d['training_result'][-1])))\n",
    "\n",
    "plt.show()"
   ]
  },
  {
   "cell_type": "markdown",
   "id": "e3600a04",
   "metadata": {},
   "source": [
    "## Results"
   ]
  },
  {
   "cell_type": "code",
   "execution_count": null,
   "id": "f9f3d5aa",
   "metadata": {},
   "outputs": [],
   "source": []
  },
  {
   "cell_type": "markdown",
   "id": "878efb80",
   "metadata": {},
   "source": [
    "## Insights and Conclusions"
   ]
  },
  {
   "cell_type": "code",
   "execution_count": null,
   "id": "7b262516",
   "metadata": {},
   "outputs": [],
   "source": []
  }
 ],
 "metadata": {
  "kernelspec": {
   "display_name": "Python 3 (ipykernel)",
   "language": "python",
   "name": "python3"
  },
  "language_info": {
   "codemirror_mode": {
    "name": "ipython",
    "version": 3
   },
   "file_extension": ".py",
   "mimetype": "text/x-python",
   "name": "python",
   "nbconvert_exporter": "python",
   "pygments_lexer": "ipython3",
   "version": "3.8.8"
  },
  "toc": {
   "base_numbering": 1,
   "nav_menu": {},
   "number_sections": true,
   "sideBar": true,
   "skip_h1_title": false,
   "title_cell": "Table of Contents",
   "title_sidebar": "Contents",
   "toc_cell": false,
   "toc_position": {
    "height": "739px",
    "left": "102px",
    "top": "111.133px",
    "width": "384px"
   },
   "toc_section_display": true,
   "toc_window_display": true
  }
 },
 "nbformat": 4,
 "nbformat_minor": 5
}
